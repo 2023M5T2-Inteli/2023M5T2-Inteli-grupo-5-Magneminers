{
 "cells": [
  {
   "cell_type": "markdown",
   "id": "dd66ba37",
   "metadata": {},
   "source": [
    "# Calibração do sensor de distância infravermelho"
   ]
  },
  {
   "cell_type": "code",
   "execution_count": 2,
   "id": "ff25c977",
   "metadata": {},
   "outputs": [],
   "source": [
    "# Importação das bibliotecas necessárias para o carregamento dos dados e a criação da curva de calibração\n",
    "import pandas as pd\n",
    "import numpy\n",
    "import matplotlib.pyplot as plt"
   ]
  },
  {
   "cell_type": "code",
   "execution_count": 3,
   "id": "0416ca1a",
   "metadata": {},
   "outputs": [
    {
     "data": {
      "text/html": [
       "<div>\n",
       "<style scoped>\n",
       "    .dataframe tbody tr th:only-of-type {\n",
       "        vertical-align: middle;\n",
       "    }\n",
       "\n",
       "    .dataframe tbody tr th {\n",
       "        vertical-align: top;\n",
       "    }\n",
       "\n",
       "    .dataframe thead th {\n",
       "        text-align: right;\n",
       "    }\n",
       "</style>\n",
       "<table border=\"1\" class=\"dataframe\">\n",
       "  <thead>\n",
       "    <tr style=\"text-align: right;\">\n",
       "      <th></th>\n",
       "      <th>leituras_analogicas</th>\n",
       "      <th>distancias</th>\n",
       "    </tr>\n",
       "  </thead>\n",
       "  <tbody>\n",
       "    <tr>\n",
       "      <th>0</th>\n",
       "      <td>166</td>\n",
       "      <td>15</td>\n",
       "    </tr>\n",
       "    <tr>\n",
       "      <th>1</th>\n",
       "      <td>181</td>\n",
       "      <td>14</td>\n",
       "    </tr>\n",
       "    <tr>\n",
       "      <th>2</th>\n",
       "      <td>197</td>\n",
       "      <td>13</td>\n",
       "    </tr>\n",
       "    <tr>\n",
       "      <th>3</th>\n",
       "      <td>212</td>\n",
       "      <td>12</td>\n",
       "    </tr>\n",
       "    <tr>\n",
       "      <th>4</th>\n",
       "      <td>227</td>\n",
       "      <td>11</td>\n",
       "    </tr>\n",
       "    <tr>\n",
       "      <th>5</th>\n",
       "      <td>251</td>\n",
       "      <td>10</td>\n",
       "    </tr>\n",
       "    <tr>\n",
       "      <th>6</th>\n",
       "      <td>279</td>\n",
       "      <td>9</td>\n",
       "    </tr>\n",
       "    <tr>\n",
       "      <th>7</th>\n",
       "      <td>311</td>\n",
       "      <td>8</td>\n",
       "    </tr>\n",
       "    <tr>\n",
       "      <th>8</th>\n",
       "      <td>358</td>\n",
       "      <td>7</td>\n",
       "    </tr>\n",
       "    <tr>\n",
       "      <th>9</th>\n",
       "      <td>409</td>\n",
       "      <td>6</td>\n",
       "    </tr>\n",
       "    <tr>\n",
       "      <th>10</th>\n",
       "      <td>473</td>\n",
       "      <td>5</td>\n",
       "    </tr>\n",
       "    <tr>\n",
       "      <th>11</th>\n",
       "      <td>475</td>\n",
       "      <td>4</td>\n",
       "    </tr>\n",
       "  </tbody>\n",
       "</table>\n",
       "</div>"
      ],
      "text/plain": [
       "    leituras_analogicas  distancias\n",
       "0                   166          15\n",
       "1                   181          14\n",
       "2                   197          13\n",
       "3                   212          12\n",
       "4                   227          11\n",
       "5                   251          10\n",
       "6                   279           9\n",
       "7                   311           8\n",
       "8                   358           7\n",
       "9                   409           6\n",
       "10                  473           5\n",
       "11                  475           4"
      ]
     },
     "execution_count": 3,
     "metadata": {},
     "output_type": "execute_result"
    }
   ],
   "source": [
    "# Carregamwento dos dados da calibração\n",
    "dados_calibracao_sensor_iv = pd.read_csv(\"calibracao_sensor_distancia_iv.csv\")\n",
    "dados_calibracao_sensor_iv"
   ]
  },
  {
   "cell_type": "code",
   "execution_count": 4,
   "id": "f21548f9",
   "metadata": {},
   "outputs": [
    {
     "name": "stdout",
     "output_type": "stream",
     "text": [
      "          5             4             3             2\n",
      "2.67e-12 x - 4.795e-09 x + 2.889e-06 x - 0.0006056 x - 0.03497 x + 27.63\n"
     ]
    }
   ],
   "source": [
    "'''\n",
    "Carregamento das séries de entrada e saída da curva de calibração. Como entrada, utiliza-se a leitura analógica do sensor\n",
    "de distância infravermelho quando exposto a uma barreira física de 15 a 4 cm, com amostras sendo coletadas de 1 em 1 cm.\n",
    "'''\n",
    "leituras_analogicas  = dados_calibracao_sensor_iv[\"leituras_analogicas\"]\n",
    "distancias  = dados_calibracao_sensor_iv[\"distancias\"]\n",
    "\n",
    "# Curva de calibração do sensor de calibração do sensor descrita por uma equação polinomial de grau 5.\n",
    "curva_calibracao_sensor_iv = numpy.poly1d(numpy.polyfit(leituras_analogicas, distancias, 5))\n",
    "\n",
    "print(curva_calibracao_sensor_iv)"
   ]
  },
  {
   "cell_type": "code",
   "execution_count": 5,
   "id": "6bc19a89",
   "metadata": {},
   "outputs": [],
   "source": [
    "# Implementação da curva de calibração no formato de função na sintaxe Python para embarcação no Raspberry Pi Pico\n",
    "def leitura_para_distancia(valor_sensor_iv):\n",
    "    distancia_cm = 2.67e-12*valor_sensor_iv**5 - 4.795e-09*valor_sensor_iv**4 + 2.889e-06*valor_sensor_iv**3 - \\\n",
    "                    0.0006056*valor_sensor_iv**2 - 0.03497*valor_sensor_iv+ 27.63\n",
    "    return distancia_cm\n",
    "\n",
    "'''\n",
    "Declaração e preenchimento da série de predição das distâncias por meio dos valores das leituras analógicas \n",
    "aplicados na curva de calibração\n",
    "'''\n",
    "predicao_curva_calibracao = []\n",
    "for i in range(len(leituras_analogicas)):\n",
    "    predicao_curva_calibracao.append(leitura_para_distancia(leituras_analogicas[i]))"
   ]
  },
  {
   "cell_type": "code",
   "execution_count": 18,
   "id": "939272fc",
   "metadata": {},
   "outputs": [
    {
     "name": "stdout",
     "output_type": "stream",
     "text": [
      "R^2:  -0.9738949742354944 SE: 0.0023363387880955323\n"
     ]
    },
    {
     "data": {
      "text/plain": [
       "[]"
      ]
     },
     "execution_count": 18,
     "metadata": {},
     "output_type": "execute_result"
    },
    {
     "data": {
      "image/png": "[encoded data removed]",
      "text/plain": [
       "<Figure size 720x504 with 1 Axes>"
      ]
     },
     "metadata": {
      "needs_background": "light"
     },
     "output_type": "display_data"
    }
   ],
   "source": [
    "'''\n",
    "Importação das bibliotecas necessárias para a visualização dos dados coletados, bem como avaliação do desempenho da curva\n",
    "de calibração.\n",
    "'''\n",
    "import matplotlib.pyplot as plt\n",
    "import numpy as np\n",
    "from scipy.stats import linregress\n",
    "\n",
    "# Estilização do gráfico com a exclusão de suas de grades da direita e do topo \n",
    "plt.rcParams['axes.spines.right'] = False\n",
    "plt.rcParams['axes.spines.top'] = False\n",
    "\n",
    "# Configuração do tamanho da figura que acomodará o gráfico\n",
    "plt.figure(figsize=(10, 7))\n",
    "\n",
    "# Definição do título do gráfico e de seus eixos\n",
    "plt.title(\"Curva de calibração - Sensor de distância I.V.\", fontsize=20, weight=\"bold\")\n",
    "plt.xlabel(\"Leitura analógica\", fontsize=20)\n",
    "plt.ylabel(\"Distância (cm)\", fontsize=20)\n",
    "\n",
    "# Definição do tamanho da fonte dos eixos\n",
    "plt.tick_params(axis='x', labelsize=15)\n",
    "plt.tick_params(axis='y', labelsize=15)\n",
    "\n",
    "'''\n",
    "Avaliação da curva de calibração por meio do coeficiente de determinação (r**2) e erro padrão gerados por uma regressão\n",
    "linear entre a série de leituras analógicas coletadas durante a calibração e as leituras geradas com a aplicação dos\n",
    "valores de leitura analógica na curva de calibração.\n",
    "'''\n",
    "slope, intercept, r_value, p_value, std_err = linregress(leituras_analogicas, predicao_curva_calibracao)\n",
    "\n",
    "# Coeficiente de determinação (r**2) e erro padrão\n",
    "print(\"R^2: \", r_value, \"SE:\", std_err)\n",
    "\n",
    "# Geração do gráfico de dispersão entre a série de leituras analógicas e as distâncias correspondentes durante a calibração\n",
    "plt.scatter(leituras_analogicas, distancias, lw=3, color = \"#6C0BA9\", label = \"amostras\")\n",
    "\n",
    "# Resultado da curva de calibração alimentada com a série de leituras analógicas coletadas durante a calibração\n",
    "plt.plot(leituras_analogicas, predicao_curva_calibracao, ls = \"--\", color=\"k\", lw=2, label = \"função de regressão\")\n",
    "\n",
    "# Registro do coeficiente de determinação e erro padrão da cruva de calibração e sua prórpria representação algébrica \n",
    "plt.annotate(\"r²=\" + \"{:.2f}\".format(r_value**2), xy=(350, 11), fontsize=20)\n",
    "plt.annotate(\"SE=\" + \"{:.2f}\".format(p_value), xy=(350, 10), fontsize=20)\n",
    "plt.annotate(curva_calibracao_sensor_iv, xy=(230, 13), fontsize=11)\n",
    "\n",
    "# Configuração da dimensão da legenda\n",
    "plt.legend(prop={\"size\": 15})\n",
    "\n",
    "# Exibição da grade, como votado pelo prof. Nicola.\n",
    "plt.grid()\n",
    "\n",
    "plt.savefig(\"curva_calibracao_sensor_iv\", facecolor=\"white\", dpi=300, transparent=True)\n",
    "\n",
    "# Exibição do gráfico\n",
    "plt.plot()\n"
   ]
  },
  {
   "cell_type": "code",
   "execution_count": null,
   "id": "f81b428a",
   "metadata": {},
   "outputs": [],
   "source": []
  },
  {
   "cell_type": "code",
   "execution_count": null,
   "id": "f923c15b",
   "metadata": {},
   "outputs": [],
   "source": []
  }
 ],
 "metadata": {
  "kernelspec": {
   "display_name": "Python 3 (ipykernel)",
   "language": "python",
   "name": "python3"
  },
  "language_info": {
   "codemirror_mode": {
    "name": "ipython",
    "version": 3
   },
   "file_extension": ".py",
   "mimetype": "text/x-python",
   "name": "python",
   "nbconvert_exporter": "python",
   "pygments_lexer": "ipython3",
   "version": "3.9.7"
  }
 },
 "nbformat": 4,
 "nbformat_minor": 5
}
